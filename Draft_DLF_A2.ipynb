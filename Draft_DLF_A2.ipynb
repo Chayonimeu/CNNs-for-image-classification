{
 "cells": [
  {
   "cell_type": "markdown",
   "metadata": {},
   "source": [
    "# CNNs for image classification"
   ]
  },
  {
   "cell_type": "markdown",
   "metadata": {},
   "source": [
    "## Step 1: Data Loading and Preprocessing"
   ]
  },
  {
   "cell_type": "markdown",
   "metadata": {},
   "source": [
    "### 1.1 Import Libraries"
   ]
  },
  {
   "cell_type": "code",
   "execution_count": 1,
   "metadata": {},
   "outputs": [],
   "source": [
    "import torch\n",
    "import torchvision\n",
    "import torchvision.transforms as transforms\n",
    "from torch.utils.data import DataLoader, random_split\n",
    "import matplotlib.pyplot as plt\n",
    "import numpy as np"
   ]
  },
  {
   "cell_type": "markdown",
   "metadata": {},
   "source": [
    "### Define Data Transformations"
   ]
  },
  {
   "cell_type": "code",
   "execution_count": 2,
   "metadata": {},
   "outputs": [],
   "source": [
    "# Define training data augmentation and normalization\n",
    "transform_train = transforms.Compose([\n",
    "    transforms.RandomCrop(32, padding=4),\n",
    "    transforms.RandomHorizontalFlip(),\n",
    "    transforms.RandomRotation(15),\n",
    "    transforms.ColorJitter(brightness=0.2, contrast=0.2, saturation=0.2, hue=0.2),\n",
    "    transforms.ToTensor(),\n",
    "    transforms.Normalize((0.4914, 0.4822, 0.4465), (0.2023, 0.1994, 0.2010)),\n",
    "])\n",
    "\n",
    "# Define test data normalization\n",
    "transform_test = transforms.Compose([\n",
    "    transforms.ToTensor(),\n",
    "    transforms.Normalize((0.4914, 0.4822, 0.4465), (0.2023, 0.1994, 0.2010)),\n",
    "])"
   ]
  },
  {
   "cell_type": "markdown",
   "metadata": {},
   "source": [
    "### 1.3 Load the CIFAR-10 Dataset"
   ]
  },
  {
   "cell_type": "code",
   "execution_count": 3,
   "metadata": {},
   "outputs": [
    {
     "name": "stdout",
     "output_type": "stream",
     "text": [
      "Files already downloaded and verified\n",
      "Files already downloaded and verified\n"
     ]
    }
   ],
   "source": [
    "# Download and load training data\n",
    "train_dataset = torchvision.datasets.CIFAR10(\n",
    "    root='./data',\n",
    "    train=True,\n",
    "    download=True,\n",
    "    transform=transform_train\n",
    ")\n",
    "\n",
    "# Download and load test data\n",
    "test_dataset = torchvision.datasets.CIFAR10(\n",
    "    root='./data',\n",
    "    train=False,\n",
    "    download=True,\n",
    "    transform=transform_test\n",
    ")"
   ]
  },
  {
   "cell_type": "markdown",
   "metadata": {},
   "source": [
    "### 1.4 Split the Data"
   ]
  },
  {
   "cell_type": "code",
   "execution_count": 4,
   "metadata": {},
   "outputs": [],
   "source": [
    "# Set random seed for reproducibility\n",
    "torch.manual_seed(42)\n",
    "\n",
    "# Split train dataset into training and validation sets\n",
    "train_size = int(0.8 * len(train_dataset))\n",
    "val_size = len(train_dataset) - train_size\n",
    "\n",
    "train_dataset, val_dataset = random_split(train_dataset, [train_size, val_size])\n",
    "\n",
    "# Create DataLoader for train, validation, and test datasets\n",
    "train_loader = DataLoader(train_dataset, batch_size=128, shuffle=True, num_workers=2)\n",
    "val_loader = DataLoader(val_dataset, batch_size=128, shuffle=False, num_workers=2)\n",
    "test_loader = DataLoader(test_dataset, batch_size=128, shuffle=False, num_workers=2)"
   ]
  },
  {
   "cell_type": "markdown",
   "metadata": {},
   "source": [
    "### 1.5 Verify Data Loading and Preprocessing"
   ]
  },
  {
   "cell_type": "code",
   "execution_count": 5,
   "metadata": {},
   "outputs": [
    {
     "data": {
      "image/png": "[encoded data removed]",
      "text/plain": [
       "<Figure size 1000x200 with 4 Axes>"
      ]
     },
     "metadata": {},
     "output_type": "display_data"
    }
   ],
   "source": [
    "# Function to unnormalize, clip, and show an image\n",
    "def imshow(img):\n",
    "    img = img * 0.2023 + 0.4914  # Unnormalize using the mean and std deviation\n",
    "    img = torch.clamp(img, 0, 1)  # Clip the values to be within [0, 1]\n",
    "    npimg = img.numpy()\n",
    "    plt.imshow(np.transpose(npimg, (1, 2, 0)))\n",
    "    plt.show()\n",
    "\n",
    "# Get some random training images\n",
    "dataiter = iter(train_loader)\n",
    "images, labels = next(dataiter)\n",
    "\n",
    "# Define CIFAR-10 classes\n",
    "classes = ['airplane', 'automobile', 'bird', 'cat', 'deer', \n",
    "           'dog', 'frog', 'horse', 'ship', 'truck']\n",
    "\n",
    "# Display images with labels\n",
    "fig, axes = plt.subplots(1, 4, figsize=(10, 2))\n",
    "for idx, ax in enumerate(axes):\n",
    "    img = images[idx] / 2 + 0.5  # Unnormalize\n",
    "    img = torch.clamp(img, 0, 1)  # Clip the values to be within [0, 1]\n",
    "    npimg = img.numpy()\n",
    "    ax.imshow(np.transpose(npimg, (1, 2, 0)))\n",
    "    ax.set_title(classes[labels[idx]])\n",
    "    ax.axis('off')\n",
    "plt.show()"
   ]
  },
  {
   "cell_type": "code",
   "execution_count": null,
   "metadata": {},
   "outputs": [],
   "source": []
  },
  {
   "cell_type": "markdown",
   "metadata": {},
   "source": [
    "## Model Definition – Implementing ResNet-18"
   ]
  },
  {
   "cell_type": "markdown",
   "metadata": {},
   "source": [
    "### Custom ResNet-18 Implementation"
   ]
  },
  {
   "cell_type": "code",
   "execution_count": 6,
   "metadata": {},
   "outputs": [
    {
     "name": "stderr",
     "output_type": "stream",
     "text": [
      "/Library/Frameworks/Python.framework/Versions/3.12/lib/python3.12/site-packages/torchvision/models/_utils.py:208: UserWarning: The parameter 'pretrained' is deprecated since 0.13 and may be removed in the future, please use 'weights' instead.\n",
      "  warnings.warn(\n",
      "/Library/Frameworks/Python.framework/Versions/3.12/lib/python3.12/site-packages/torchvision/models/_utils.py:223: UserWarning: Arguments other than a weight enum or `None` for 'weights' are deprecated since 0.13 and may be removed in the future. The current behavior is equivalent to passing `weights=None`.\n",
      "  warnings.warn(msg)\n"
     ]
    }
   ],
   "source": [
    "import torch.nn as nn\n",
    "import torchvision.models as models\n",
    "\n",
    "class CustomResNet18(nn.Module):\n",
    "    def __init__(self, num_classes=10):\n",
    "        super(CustomResNet18, self).__init__()\n",
    "        # Load ResNet-18 architecture\n",
    "        self.model = models.resnet18(pretrained=False)\n",
    "        \n",
    "        # Modify the initial convolution layer to fit CIFAR-10's image size\n",
    "        self.model.conv1 = nn.Conv2d(3, 64, kernel_size=3, stride=1, padding=1, bias=False)\n",
    "        \n",
    "        # Remove max-pooling to avoid excessive downsampling for smaller images\n",
    "        self.model.maxpool = nn.Identity()\n",
    "        \n",
    "        # Modify the final fully connected layer to match the number of CIFAR-10 classes\n",
    "        self.model.fc = nn.Linear(self.model.fc.in_features, num_classes)\n",
    "    \n",
    "    def forward(self, x):\n",
    "        return self.model(x)\n",
    "\n",
    "# Instantiate the model\n",
    "resnet18_model = CustomResNet18(num_classes=10)\n",
    "\n",
    "# Move model to GPU if available\n",
    "device = torch.device(\"cuda\" if torch.cuda.is_available() else \"cpu\")\n",
    "resnet18_model = resnet18_model.to(device)"
   ]
  },
  {
   "cell_type": "markdown",
   "metadata": {},
   "source": [
    "#### Define Loss Function and Optimizer"
   ]
  },
  {
   "cell_type": "code",
   "execution_count": 7,
   "metadata": {},
   "outputs": [],
   "source": [
    "import torch.optim as optim\n",
    "\n",
    "# Define loss function\n",
    "criterion = nn.CrossEntropyLoss()\n",
    "\n",
    "# Define optimizer (SGD with momentum)\n",
    "optimizer = optim.SGD(resnet18_model.parameters(), lr=0.01, momentum=0.9, weight_decay=5e-4)"
   ]
  },
  {
   "cell_type": "markdown",
   "metadata": {},
   "source": [
    "#### Training Loop"
   ]
  },
  {
   "cell_type": "code",
   "execution_count": 8,
   "metadata": {},
   "outputs": [
    {
     "name": "stdout",
     "output_type": "stream",
     "text": [
      "Epoch [1/20], Loss: 1.7856, Accuracy: 33.52%\n",
      "Epoch [2/20], Loss: 1.3850, Accuracy: 49.81%\n",
      "Epoch [3/20], Loss: 1.1527, Accuracy: 58.83%\n",
      "Epoch [4/20], Loss: 0.9876, Accuracy: 65.03%\n",
      "Epoch [5/20], Loss: 0.8900, Accuracy: 68.64%\n",
      "Epoch [6/20], Loss: 0.8070, Accuracy: 71.77%\n",
      "Epoch [7/20], Loss: 0.7495, Accuracy: 73.86%\n",
      "Epoch [8/20], Loss: 0.7075, Accuracy: 75.21%\n",
      "Epoch [9/20], Loss: 0.6564, Accuracy: 77.01%\n",
      "Epoch [10/20], Loss: 0.6218, Accuracy: 78.36%\n",
      "Epoch [11/20], Loss: 0.5941, Accuracy: 79.30%\n",
      "Epoch [12/20], Loss: 0.5703, Accuracy: 80.01%\n",
      "Epoch [13/20], Loss: 0.5416, Accuracy: 81.15%\n",
      "Epoch [14/20], Loss: 0.5183, Accuracy: 81.86%\n",
      "Epoch [15/20], Loss: 0.4950, Accuracy: 82.74%\n",
      "Epoch [16/20], Loss: 0.4837, Accuracy: 83.04%\n",
      "Epoch [17/20], Loss: 0.4640, Accuracy: 83.93%\n",
      "Epoch [18/20], Loss: 0.4499, Accuracy: 84.28%\n",
      "Epoch [19/20], Loss: 0.4341, Accuracy: 84.91%\n",
      "Epoch [20/20], Loss: 0.4215, Accuracy: 85.21%\n"
     ]
    }
   ],
   "source": [
    "num_epochs = 20  # Adjust as needed\n",
    "\n",
    "# Training loop\n",
    "for epoch in range(num_epochs):\n",
    "    resnet18_model.train()  # Set model to training mode\n",
    "    running_loss = 0.0\n",
    "    correct = 0\n",
    "    total = 0\n",
    "\n",
    "    # Training phase\n",
    "    for inputs, labels in train_loader:\n",
    "        inputs, labels = inputs.to(device), labels.to(device)\n",
    "\n",
    "        # Zero gradients\n",
    "        optimizer.zero_grad()\n",
    "\n",
    "        # Forward pass\n",
    "        outputs = resnet18_model(inputs)\n",
    "        loss = criterion(outputs, labels)\n",
    "\n",
    "        # Backward pass and optimization\n",
    "        loss.backward()\n",
    "        optimizer.step()\n",
    "\n",
    "        # Track loss and accuracy\n",
    "        running_loss += loss.item()\n",
    "        _, predicted = outputs.max(1)\n",
    "        total += labels.size(0)\n",
    "        correct += predicted.eq(labels).sum().item()\n",
    "\n",
    "    # Calculate and display training accuracy\n",
    "    train_acc = 100. * correct / total\n",
    "    print(f\"Epoch [{epoch+1}/{num_epochs}], Loss: {running_loss/len(train_loader):.4f}, Accuracy: {train_acc:.2f}%\")\n",
    "\n",
    "    # Validation phase (optional)\n",
    "    # You can add validation accuracy tracking here if desired"
   ]
  },
  {
   "cell_type": "markdown",
   "metadata": {},
   "source": [
    "#### Adding Validation Tracking"
   ]
  },
  {
   "cell_type": "code",
   "execution_count": 9,
   "metadata": {},
   "outputs": [
    {
     "name": "stdout",
     "output_type": "stream",
     "text": [
      "Epoch [1/20], Train Loss: 0.4026, Train Acc: 86.12%, Val Loss: 0.4997, Val Acc: 82.99%\n",
      "Epoch [2/20], Train Loss: 0.3980, Train Acc: 85.91%, Val Loss: 0.5192, Val Acc: 81.97%\n",
      "Epoch [3/20], Train Loss: 0.3880, Train Acc: 86.49%, Val Loss: 0.4936, Val Acc: 83.03%\n",
      "Epoch [4/20], Train Loss: 0.3658, Train Acc: 87.08%, Val Loss: 0.5266, Val Acc: 82.44%\n",
      "Epoch [5/20], Train Loss: 0.3657, Train Acc: 87.23%, Val Loss: 0.4944, Val Acc: 82.88%\n",
      "Epoch [6/20], Train Loss: 0.3515, Train Acc: 87.81%, Val Loss: 0.5312, Val Acc: 81.99%\n",
      "Epoch [7/20], Train Loss: 0.3455, Train Acc: 87.90%, Val Loss: 0.4713, Val Acc: 83.88%\n",
      "Epoch [8/20], Train Loss: 0.3341, Train Acc: 88.16%, Val Loss: 0.5041, Val Acc: 83.12%\n",
      "Epoch [9/20], Train Loss: 0.3269, Train Acc: 88.69%, Val Loss: 0.4837, Val Acc: 83.29%\n",
      "Epoch [10/20], Train Loss: 0.3168, Train Acc: 88.91%, Val Loss: 0.4615, Val Acc: 84.06%\n",
      "Epoch [11/20], Train Loss: 0.3150, Train Acc: 88.94%, Val Loss: 0.4315, Val Acc: 85.15%\n",
      "Epoch [12/20], Train Loss: 0.3049, Train Acc: 89.23%, Val Loss: 0.4604, Val Acc: 84.68%\n",
      "Epoch [13/20], Train Loss: 0.2898, Train Acc: 89.92%, Val Loss: 0.4566, Val Acc: 84.87%\n",
      "Epoch [14/20], Train Loss: 0.2884, Train Acc: 89.74%, Val Loss: 0.4878, Val Acc: 83.75%\n",
      "Epoch [15/20], Train Loss: 0.2881, Train Acc: 89.72%, Val Loss: 0.4381, Val Acc: 85.62%\n",
      "Epoch [16/20], Train Loss: 0.2753, Train Acc: 90.30%, Val Loss: 0.4685, Val Acc: 84.50%\n",
      "Epoch [17/20], Train Loss: 0.2682, Train Acc: 90.50%, Val Loss: 0.4618, Val Acc: 85.03%\n",
      "Epoch [18/20], Train Loss: 0.2653, Train Acc: 90.76%, Val Loss: 0.4945, Val Acc: 83.74%\n",
      "Epoch [19/20], Train Loss: 0.2630, Train Acc: 90.64%, Val Loss: 0.4451, Val Acc: 84.77%\n",
      "Epoch [20/20], Train Loss: 0.2541, Train Acc: 91.12%, Val Loss: 0.4045, Val Acc: 86.28%\n"
     ]
    }
   ],
   "source": [
    "# Training loop with validation phase\n",
    "num_epochs = 20\n",
    "\n",
    "for epoch in range(num_epochs):\n",
    "    # Training phase\n",
    "    resnet18_model.train()  # Set model to training mode\n",
    "    running_loss = 0.0\n",
    "    correct = 0\n",
    "    total = 0\n",
    "\n",
    "    for inputs, labels in train_loader:\n",
    "        inputs, labels = inputs.to(device), labels.to(device)\n",
    "\n",
    "        # Zero gradients\n",
    "        optimizer.zero_grad()\n",
    "\n",
    "        # Forward pass\n",
    "        outputs = resnet18_model(inputs)\n",
    "        loss = criterion(outputs, labels)\n",
    "\n",
    "        # Backward pass and optimization\n",
    "        loss.backward()\n",
    "        optimizer.step()\n",
    "\n",
    "        # Track training loss and accuracy\n",
    "        running_loss += loss.item()\n",
    "        _, predicted = outputs.max(1)\n",
    "        total += labels.size(0)\n",
    "        correct += predicted.eq(labels).sum().item()\n",
    "\n",
    "    train_acc = 100. * correct / total\n",
    "\n",
    "    # Validation phase\n",
    "    resnet18_model.eval()  # Set model to evaluation mode\n",
    "    val_loss = 0.0\n",
    "    correct = 0\n",
    "    total = 0\n",
    "\n",
    "    with torch.no_grad():  # Disable gradient computation for validation\n",
    "        for inputs, labels in val_loader:\n",
    "            inputs, labels = inputs.to(device), labels.to(device)\n",
    "\n",
    "            outputs = resnet18_model(inputs)\n",
    "            loss = criterion(outputs, labels)\n",
    "\n",
    "            val_loss += loss.item()\n",
    "            _, predicted = outputs.max(1)\n",
    "            total += labels.size(0)\n",
    "            correct += predicted.eq(labels).sum().item()\n",
    "\n",
    "    val_acc = 100. * correct / total\n",
    "\n",
    "    # Display results for current epoch\n",
    "    print(f\"Epoch [{epoch+1}/{num_epochs}], \"\n",
    "          f\"Train Loss: {running_loss/len(train_loader):.4f}, Train Acc: {train_acc:.2f}%, \"\n",
    "          f\"Val Loss: {val_loss/len(val_loader):.4f}, Val Acc: {val_acc:.2f}%\")"
   ]
  },
  {
   "cell_type": "markdown",
   "metadata": {},
   "source": [
    "### Model Evaluation on Test Set"
   ]
  },
  {
   "cell_type": "code",
   "execution_count": 10,
   "metadata": {},
   "outputs": [
    {
     "name": "stdout",
     "output_type": "stream",
     "text": [
      "Test Accuracy: 88.99%\n"
     ]
    }
   ],
   "source": [
    "# Test the model\n",
    "resnet18_model.eval()  # Set model to evaluation mode\n",
    "correct = 0\n",
    "total = 0\n",
    "\n",
    "with torch.no_grad():\n",
    "    for inputs, labels in test_loader:\n",
    "        inputs, labels = inputs.to(device), labels.to(device)\n",
    "\n",
    "        outputs = resnet18_model(inputs)\n",
    "        _, predicted = outputs.max(1)\n",
    "        total += labels.size(0)\n",
    "        correct += predicted.eq(labels).sum().item()\n",
    "\n",
    "test_acc = 100. * correct / total\n",
    "print(f\"Test Accuracy: {test_acc:.2f}%\")"
   ]
  },
  {
   "cell_type": "markdown",
   "metadata": {},
   "source": [
    "## Step 2.2: AlexNet Implementation"
   ]
  },
  {
   "cell_type": "markdown",
   "metadata": {},
   "source": []
  },
  {
   "cell_type": "code",
   "execution_count": 14,
   "metadata": {},
   "outputs": [],
   "source": [
    "import torch.nn as nn\n",
    "import torch.nn.functional as F\n",
    "\n",
    "class CustomAlexNet(nn.Module):\n",
    "    def __init__(self, num_classes=10):\n",
    "        super(CustomAlexNet, self).__init__()\n",
    "        self.features = nn.Sequential(\n",
    "            nn.Conv2d(3, 64, kernel_size=3, stride=1, padding=1),  # Adjusted kernel size and stride\n",
    "            nn.ReLU(inplace=True),\n",
    "            nn.MaxPool2d(kernel_size=2, stride=2),  # Adjusted to prevent collapse\n",
    "\n",
    "            nn.Conv2d(64, 192, kernel_size=3, padding=1),\n",
    "            nn.ReLU(inplace=True),\n",
    "            nn.MaxPool2d(kernel_size=2, stride=2),\n",
    "\n",
    "            nn.Conv2d(192, 384, kernel_size=3, padding=1),\n",
    "            nn.ReLU(inplace=True),\n",
    "\n",
    "            nn.Conv2d(384, 256, kernel_size=3, padding=1),\n",
    "            nn.ReLU(inplace=True),\n",
    "\n",
    "            nn.Conv2d(256, 256, kernel_size=3, padding=1),\n",
    "            nn.ReLU(inplace=True),\n",
    "            nn.MaxPool2d(kernel_size=2, stride=2)\n",
    "        )\n",
    "\n",
    "        # Adjusted classifier to handle reduced spatial dimensions\n",
    "        self.classifier = nn.Sequential(\n",
    "            nn.Dropout(),\n",
    "            nn.Linear(256 * 4 * 4, 4096),  # Adjusted for CIFAR-10 image size\n",
    "            nn.ReLU(inplace=True),\n",
    "\n",
    "            nn.Dropout(),\n",
    "            nn.Linear(4096, 4096),\n",
    "            nn.ReLU(inplace=True),\n",
    "\n",
    "            nn.Linear(4096, num_classes)\n",
    "        )\n",
    "\n",
    "    def forward(self, x):\n",
    "        x = self.features(x)\n",
    "        x = x.view(x.size(0), -1)  # Flatten the feature map\n",
    "        x = self.classifier(x)\n",
    "        return x\n",
    "\n",
    "# Instantiate the model\n",
    "alexnet_model = CustomAlexNet(num_classes=10)\n",
    "\n",
    "# Move model to GPU if available\n",
    "alexnet_model = alexnet_model.to(device)"
   ]
  },
  {
   "cell_type": "code",
   "execution_count": 15,
   "metadata": {},
   "outputs": [],
   "source": [
    "# Define loss function\n",
    "criterion = nn.CrossEntropyLoss()\n",
    "\n",
    "# Define optimizer for AlexNet (SGD with momentum)\n",
    "optimizer = optim.SGD(alexnet_model.parameters(), lr=0.01, momentum=0.9, weight_decay=5e-4)"
   ]
  },
  {
   "cell_type": "code",
   "execution_count": 16,
   "metadata": {},
   "outputs": [
    {
     "name": "stdout",
     "output_type": "stream",
     "text": [
      "Epoch [1/20], Train Loss: 2.2248, Train Acc: 15.43%, Val Loss: 2.0449, Val Acc: 25.09%\n",
      "Epoch [2/20], Train Loss: 1.9206, Train Acc: 27.68%, Val Loss: 1.7676, Val Acc: 33.21%\n",
      "Epoch [3/20], Train Loss: 1.7289, Train Acc: 35.42%, Val Loss: 1.6051, Val Acc: 40.91%\n",
      "Epoch [4/20], Train Loss: 1.5907, Train Acc: 40.62%, Val Loss: 1.4863, Val Acc: 45.80%\n",
      "Epoch [5/20], Train Loss: 1.4689, Train Acc: 45.73%, Val Loss: 1.3830, Val Acc: 49.33%\n",
      "Epoch [6/20], Train Loss: 1.3462, Train Acc: 50.63%, Val Loss: 1.2210, Val Acc: 55.99%\n",
      "Epoch [7/20], Train Loss: 1.2563, Train Acc: 54.24%, Val Loss: 1.1677, Val Acc: 57.35%\n",
      "Epoch [8/20], Train Loss: 1.1721, Train Acc: 57.83%, Val Loss: 1.1778, Val Acc: 58.31%\n",
      "Epoch [9/20], Train Loss: 1.1006, Train Acc: 60.20%, Val Loss: 1.0236, Val Acc: 63.01%\n",
      "Epoch [10/20], Train Loss: 1.0319, Train Acc: 62.96%, Val Loss: 0.9741, Val Acc: 65.27%\n",
      "Epoch [11/20], Train Loss: 0.9717, Train Acc: 65.53%, Val Loss: 0.9408, Val Acc: 66.69%\n",
      "Epoch [12/20], Train Loss: 0.9405, Train Acc: 66.85%, Val Loss: 0.9162, Val Acc: 67.57%\n",
      "Epoch [13/20], Train Loss: 0.8964, Train Acc: 68.25%, Val Loss: 0.8460, Val Acc: 69.88%\n",
      "Epoch [14/20], Train Loss: 0.8682, Train Acc: 69.40%, Val Loss: 0.8491, Val Acc: 70.32%\n",
      "Epoch [15/20], Train Loss: 0.8236, Train Acc: 70.97%, Val Loss: 0.8126, Val Acc: 71.09%\n",
      "Epoch [16/20], Train Loss: 0.7898, Train Acc: 72.42%, Val Loss: 0.7666, Val Acc: 73.25%\n",
      "Epoch [17/20], Train Loss: 0.7636, Train Acc: 73.42%, Val Loss: 0.7751, Val Acc: 72.62%\n",
      "Epoch [18/20], Train Loss: 0.7345, Train Acc: 74.48%, Val Loss: 0.7299, Val Acc: 74.58%\n",
      "Epoch [19/20], Train Loss: 0.7083, Train Acc: 75.27%, Val Loss: 0.7555, Val Acc: 73.67%\n",
      "Epoch [20/20], Train Loss: 0.6947, Train Acc: 76.16%, Val Loss: 0.7208, Val Acc: 74.85%\n"
     ]
    }
   ],
   "source": [
    "# Training loop with validation for AlexNet\n",
    "num_epochs = 20\n",
    "\n",
    "for epoch in range(num_epochs):\n",
    "    # Training phase\n",
    "    alexnet_model.train()  # Set model to training mode\n",
    "    running_loss = 0.0\n",
    "    correct = 0\n",
    "    total = 0\n",
    "\n",
    "    for inputs, labels in train_loader:\n",
    "        inputs, labels = inputs.to(device), labels.to(device)\n",
    "\n",
    "        # Zero gradients\n",
    "        optimizer.zero_grad()\n",
    "\n",
    "        # Forward pass\n",
    "        outputs = alexnet_model(inputs)\n",
    "        loss = criterion(outputs, labels)\n",
    "\n",
    "        # Backward pass and optimization\n",
    "        loss.backward()\n",
    "        optimizer.step()\n",
    "\n",
    "        # Track training loss and accuracy\n",
    "        running_loss += loss.item()\n",
    "        _, predicted = outputs.max(1)\n",
    "        total += labels.size(0)\n",
    "        correct += predicted.eq(labels).sum().item()\n",
    "\n",
    "    train_acc = 100. * correct / total\n",
    "\n",
    "    # Validation phase\n",
    "    alexnet_model.eval()  # Set model to evaluation mode\n",
    "    val_loss = 0.0\n",
    "    correct = 0\n",
    "    total = 0\n",
    "\n",
    "    with torch.no_grad():  # Disable gradient computation for validation\n",
    "        for inputs, labels in val_loader:\n",
    "            inputs, labels = inputs.to(device), labels.to(device)\n",
    "\n",
    "            outputs = alexnet_model(inputs)\n",
    "            loss = criterion(outputs, labels)\n",
    "\n",
    "            val_loss += loss.item()\n",
    "            _, predicted = outputs.max(1)\n",
    "            total += labels.size(0)\n",
    "            correct += predicted.eq(labels).sum().item()\n",
    "\n",
    "    val_acc = 100. * correct / total\n",
    "\n",
    "    # Display results for current epoch\n",
    "    print(f\"Epoch [{epoch+1}/{num_epochs}], \"\n",
    "          f\"Train Loss: {running_loss/len(train_loader):.4f}, Train Acc: {train_acc:.2f}%, \"\n",
    "          f\"Val Loss: {val_loss/len(val_loader):.4f}, Val Acc: {val_acc:.2f}%\")"
   ]
  },
  {
   "cell_type": "markdown",
   "metadata": {},
   "source": [
    "#### Test Phase for AlexNet"
   ]
  },
  {
   "cell_type": "code",
   "execution_count": 17,
   "metadata": {},
   "outputs": [
    {
     "name": "stdout",
     "output_type": "stream",
     "text": [
      "Test Accuracy for AlexNet: 78.21%\n"
     ]
    }
   ],
   "source": [
    "# Test the AlexNet model\n",
    "alexnet_model.eval()  # Set model to evaluation mode\n",
    "correct = 0\n",
    "total = 0\n",
    "\n",
    "with torch.no_grad():\n",
    "    for inputs, labels in test_loader:\n",
    "        inputs, labels = inputs.to(device), labels.to(device)\n",
    "\n",
    "        outputs = alexnet_model(inputs)\n",
    "        _, predicted = outputs.max(1)\n",
    "        total += labels.size(0)\n",
    "        correct += predicted.eq(labels).sum().item()\n",
    "\n",
    "test_acc = 100. * correct / total\n",
    "print(f\"Test Accuracy for AlexNet: {test_acc:.2f}%\")"
   ]
  },
  {
   "cell_type": "markdown",
   "metadata": {},
   "source": [
    "## 2.3: MobileNetV2 Implementation"
   ]
  },
  {
   "cell_type": "markdown",
   "metadata": {},
   "source": []
  },
  {
   "cell_type": "code",
   "execution_count": 18,
   "metadata": {},
   "outputs": [
    {
     "name": "stderr",
     "output_type": "stream",
     "text": [
      "/Library/Frameworks/Python.framework/Versions/3.12/lib/python3.12/site-packages/torchvision/models/_utils.py:223: UserWarning: Arguments other than a weight enum or `None` for 'weights' are deprecated since 0.13 and may be removed in the future. The current behavior is equivalent to passing `weights=MobileNet_V2_Weights.IMAGENET1K_V1`. You can also use `weights=MobileNet_V2_Weights.DEFAULT` to get the most up-to-date weights.\n",
      "  warnings.warn(msg)\n",
      "Downloading: \"https://download.pytorch.org/models/mobilenet_v2-b0353104.pth\" to /Users/chayonimeu/.cache/torch/hub/checkpoints/mobilenet_v2-b0353104.pth\n",
      "100%|██████████| 13.6M/13.6M [00:01<00:00, 12.8MB/s]\n"
     ]
    }
   ],
   "source": [
    "class CustomMobileNetV2(nn.Module):\n",
    "    def __init__(self, num_classes=10):\n",
    "        super(CustomMobileNetV2, self).__init__()\n",
    "        # Load MobileNetV2 with pretrained weights\n",
    "        self.model = models.mobilenet_v2(pretrained=True)\n",
    "\n",
    "        # Modify the classifier layer for CIFAR-10\n",
    "        self.model.classifier[1] = nn.Linear(self.model.classifier[1].in_features, num_classes)\n",
    "    \n",
    "    def forward(self, x):\n",
    "        return self.model(x)\n",
    "\n",
    "# Instantiate the model\n",
    "mobilenet_model = CustomMobileNetV2(num_classes=10)\n",
    "\n",
    "# Move model to GPU if available\n",
    "mobilenet_model = mobilenet_model.to(device)"
   ]
  },
  {
   "cell_type": "code",
   "execution_count": 19,
   "metadata": {},
   "outputs": [],
   "source": [
    "# Define loss function\n",
    "criterion = nn.CrossEntropyLoss()\n",
    "\n",
    "# Define optimizer for MobileNetV2 (SGD with momentum)\n",
    "optimizer = optim.SGD(mobilenet_model.parameters(), lr=0.01, momentum=0.9, weight_decay=5e-4)"
   ]
  },
  {
   "cell_type": "code",
   "execution_count": 20,
   "metadata": {},
   "outputs": [
    {
     "name": "stdout",
     "output_type": "stream",
     "text": [
      "Epoch [1/20], Train Loss: 1.5022, Train Acc: 47.02%, Val Loss: 1.2025, Val Acc: 56.61%\n",
      "Epoch [2/20], Train Loss: 1.1125, Train Acc: 61.12%, Val Loss: 1.0168, Val Acc: 63.97%\n",
      "Epoch [3/20], Train Loss: 0.9959, Train Acc: 65.20%, Val Loss: 1.0140, Val Acc: 64.10%\n",
      "Epoch [4/20], Train Loss: 0.9392, Train Acc: 67.58%, Val Loss: 0.8851, Val Acc: 68.90%\n",
      "Epoch [5/20], Train Loss: 0.8670, Train Acc: 69.88%, Val Loss: 0.8363, Val Acc: 70.72%\n",
      "Epoch [6/20], Train Loss: 0.8303, Train Acc: 71.27%, Val Loss: 0.8308, Val Acc: 70.67%\n",
      "Epoch [7/20], Train Loss: 0.7914, Train Acc: 72.36%, Val Loss: 0.8094, Val Acc: 71.29%\n",
      "Epoch [8/20], Train Loss: 0.8069, Train Acc: 71.92%, Val Loss: 0.7506, Val Acc: 73.59%\n",
      "Epoch [9/20], Train Loss: 0.7536, Train Acc: 73.83%, Val Loss: 0.7615, Val Acc: 73.47%\n",
      "Epoch [10/20], Train Loss: 0.7669, Train Acc: 73.42%, Val Loss: 0.7850, Val Acc: 72.60%\n",
      "Epoch [11/20], Train Loss: 0.7346, Train Acc: 74.61%, Val Loss: 0.7345, Val Acc: 74.12%\n",
      "Epoch [12/20], Train Loss: 0.7087, Train Acc: 75.34%, Val Loss: 0.7200, Val Acc: 74.54%\n",
      "Epoch [13/20], Train Loss: 0.7093, Train Acc: 75.43%, Val Loss: 0.7862, Val Acc: 72.45%\n",
      "Epoch [14/20], Train Loss: 0.6914, Train Acc: 75.73%, Val Loss: 0.7081, Val Acc: 75.15%\n",
      "Epoch [15/20], Train Loss: 0.6800, Train Acc: 76.61%, Val Loss: 0.6883, Val Acc: 75.82%\n",
      "Epoch [16/20], Train Loss: 0.6623, Train Acc: 77.16%, Val Loss: 0.6803, Val Acc: 75.93%\n",
      "Epoch [17/20], Train Loss: 0.6620, Train Acc: 76.95%, Val Loss: 0.7132, Val Acc: 74.95%\n",
      "Epoch [18/20], Train Loss: 0.6638, Train Acc: 76.85%, Val Loss: 0.9718, Val Acc: 67.09%\n",
      "Epoch [19/20], Train Loss: 1.6696, Train Acc: 39.76%, Val Loss: 1.4236, Val Acc: 48.69%\n",
      "Epoch [20/20], Train Loss: 1.2669, Train Acc: 54.63%, Val Loss: 1.1843, Val Acc: 57.93%\n"
     ]
    }
   ],
   "source": [
    "num_epochs = 20\n",
    "\n",
    "for epoch in range(num_epochs):\n",
    "    # Training phase\n",
    "    mobilenet_model.train()  # Set model to training mode\n",
    "    running_loss = 0.0\n",
    "    correct = 0\n",
    "    total = 0\n",
    "\n",
    "    for inputs, labels in train_loader:\n",
    "        inputs, labels = inputs.to(device), labels.to(device)\n",
    "\n",
    "        # Zero gradients\n",
    "        optimizer.zero_grad()\n",
    "\n",
    "        # Forward pass\n",
    "        outputs = mobilenet_model(inputs)\n",
    "        loss = criterion(outputs, labels)\n",
    "\n",
    "        # Backward pass and optimization\n",
    "        loss.backward()\n",
    "        optimizer.step()\n",
    "\n",
    "        # Track training loss and accuracy\n",
    "        running_loss += loss.item()\n",
    "        _, predicted = outputs.max(1)\n",
    "        total += labels.size(0)\n",
    "        correct += predicted.eq(labels).sum().item()\n",
    "\n",
    "    train_acc = 100. * correct / total\n",
    "\n",
    "    # Validation phase\n",
    "    mobilenet_model.eval()  # Set model to evaluation mode\n",
    "    val_loss = 0.0\n",
    "    correct = 0\n",
    "    total = 0\n",
    "\n",
    "    with torch.no_grad():  # Disable gradient computation for validation\n",
    "        for inputs, labels in val_loader:\n",
    "            inputs, labels = inputs.to(device), labels.to(device)\n",
    "\n",
    "            outputs = mobilenet_model(inputs)\n",
    "            loss = criterion(outputs, labels)\n",
    "\n",
    "            val_loss += loss.item()\n",
    "            _, predicted = outputs.max(1)\n",
    "            total += labels.size(0)\n",
    "            correct += predicted.eq(labels).sum().item()\n",
    "\n",
    "    val_acc = 100. * correct / total\n",
    "\n",
    "    # Display results for current epoch\n",
    "    print(f\"Epoch [{epoch+1}/{num_epochs}], \"\n",
    "          f\"Train Loss: {running_loss/len(train_loader):.4f}, Train Acc: {train_acc:.2f}%, \"\n",
    "          f\"Val Loss: {val_loss/len(val_loader):.4f}, Val Acc: {val_acc:.2f}%\")"
   ]
  },
  {
   "cell_type": "code",
   "execution_count": 21,
   "metadata": {},
   "outputs": [
    {
     "name": "stdout",
     "output_type": "stream",
     "text": [
      "Test Accuracy for MobileNetV2: 63.44%\n"
     ]
    }
   ],
   "source": [
    "# Test the MobileNetV2 model\n",
    "mobilenet_model.eval()  # Set model to evaluation mode\n",
    "correct = 0\n",
    "total = 0\n",
    "\n",
    "with torch.no_grad():\n",
    "    for inputs, labels in test_loader:\n",
    "        inputs, labels = inputs.to(device), labels.to(device)\n",
    "\n",
    "        outputs = mobilenet_model(inputs)\n",
    "        _, predicted = outputs.max(1)\n",
    "        total += labels.size(0)\n",
    "        correct += predicted.eq(labels).sum().item()\n",
    "\n",
    "test_acc = 100. * correct / total\n",
    "print(f\"Test Accuracy for MobileNetV2: {test_acc:.2f}%\")"
   ]
  },
  {
   "cell_type": "code",
   "execution_count": 22,
   "metadata": {},
   "outputs": [
    {
     "name": "stderr",
     "output_type": "stream",
     "text": [
      "/Library/Frameworks/Python.framework/Versions/3.12/lib/python3.12/site-packages/torch/optim/lr_scheduler.py:60: UserWarning: The verbose parameter is deprecated. Please use get_last_lr() to access the learning rate.\n",
      "  warnings.warn(\n"
     ]
    }
   ],
   "source": [
    "scheduler = optim.lr_scheduler.ReduceLROnPlateau(optimizer, mode='min', factor=0.1, patience=3, verbose=True)"
   ]
  },
  {
   "cell_type": "code",
   "execution_count": null,
   "metadata": {},
   "outputs": [],
   "source": []
  },
  {
   "cell_type": "markdown",
   "metadata": {},
   "source": []
  },
  {
   "cell_type": "code",
   "execution_count": 1,
   "metadata": {},
   "outputs": [
    {
     "ename": "NameError",
     "evalue": "name 'running_loss' is not defined",
     "output_type": "error",
     "traceback": [
      "\u001b[0;31m---------------------------------------------------------------------------\u001b[0m",
      "\u001b[0;31mNameError\u001b[0m                                 Traceback (most recent call last)",
      "Cell \u001b[0;32mIn[1], line 6\u001b[0m\n\u001b[1;32m      3\u001b[0m train_accuracies, val_accuracies \u001b[38;5;241m=\u001b[39m [], []\n\u001b[1;32m      5\u001b[0m \u001b[38;5;66;03m# After each epoch in the training loop, append losses and accuracies\u001b[39;00m\n\u001b[0;32m----> 6\u001b[0m train_losses\u001b[38;5;241m.\u001b[39mappend(\u001b[43mrunning_loss\u001b[49m \u001b[38;5;241m/\u001b[39m \u001b[38;5;28mlen\u001b[39m(train_loader))\n\u001b[1;32m      7\u001b[0m val_losses\u001b[38;5;241m.\u001b[39mappend(val_loss \u001b[38;5;241m/\u001b[39m \u001b[38;5;28mlen\u001b[39m(val_loader))\n\u001b[1;32m      8\u001b[0m train_accuracies\u001b[38;5;241m.\u001b[39mappend(train_acc)\n",
      "\u001b[0;31mNameError\u001b[0m: name 'running_loss' is not defined"
     ]
    }
   ],
   "source": [
    "# Initialize lists to store results for each epoch\n",
    "train_losses, val_losses = [], []\n",
    "train_accuracies, val_accuracies = [], []\n",
    "\n",
    "# After each epoch in the training loop, append losses and accuracies\n",
    "train_losses.append(running_loss / len(train_loader))\n",
    "val_losses.append(val_loss / len(val_loader))\n",
    "train_accuracies.append(train_acc)\n",
    "val_accuracies.append(val_acc)\n",
    "\n",
    "# Plotting\n",
    "import matplotlib.pyplot as plt\n",
    "\n",
    "# Loss Curve\n",
    "plt.figure(figsize=(10,5))\n",
    "plt.plot(train_losses, label='Training Loss')\n",
    "plt.plot(val_losses, label='Validation Loss')\n",
    "plt.xlabel('Epochs')\n",
    "plt.ylabel('Loss')\n",
    "plt.legend()\n",
    "plt.title('Training and Validation Loss')\n",
    "\n",
    "# Accuracy Curve\n",
    "plt.figure(figsize=(10,5))\n",
    "plt.plot(train_accuracies, label='Training Accuracy')\n",
    "plt.plot(val_accuracies, label='Validation Accuracy')\n",
    "plt.xlabel('Epochs')\n",
    "plt.ylabel('Accuracy')\n",
    "plt.legend()\n",
    "plt.title('Training and Validation Accuracy')\n",
    "plt.show()"
   ]
  },
  {
   "cell_type": "markdown",
   "metadata": {},
   "source": [
    "### Citation\n",
    "Will Cukierski. CIFAR-10 - Object Recognition in Images. https://kaggle.com/competitions/cifar-10, 2013. Kaggle."
   ]
  },
  {
   "cell_type": "markdown",
   "metadata": {},
   "source": []
  }
 ],
 "metadata": {
  "kernelspec": {
   "display_name": "Python 3",
   "language": "python",
   "name": "python3"
  },
  "language_info": {
   "codemirror_mode": {
    "name": "ipython",
    "version": 3
   },
   "file_extension": ".py",
   "mimetype": "text/x-python",
   "name": "python",
   "nbconvert_exporter": "python",
   "pygments_lexer": "ipython3",
   "version": "3.12.3"
  }
 },
 "nbformat": 4,
 "nbformat_minor": 2
}
