{
 "cells": [
  {
   "cell_type": "markdown",
   "metadata": {},
   "source": [
    "# CNNs for image classification"
   ]
  },
  {
   "cell_type": "markdown",
   "metadata": {},
   "source": [
    "## Step 1: Data Loading and Preprocessing"
   ]
  },
  {
   "cell_type": "markdown",
   "metadata": {},
   "source": [
    "### 1.1 Import Libraries"
   ]
  },
  {
   "cell_type": "code",
   "execution_count": 1,
   "metadata": {},
   "outputs": [],
   "source": [
    "import torch\n",
    "import torchvision\n",
    "import torchvision.transforms as transforms\n",
    "from torch.utils.data import DataLoader, random_split\n",
    "import matplotlib.pyplot as plt\n",
    "import numpy as np\n",
    "import os"
   ]
  },
  {
   "cell_type": "markdown",
   "metadata": {},
   "source": [
    "### Define Data Transformations"
   ]
  },
  {
   "cell_type": "code",
   "execution_count": 2,
   "metadata": {},
   "outputs": [],
   "source": [
    "# Define training data augmentation and normalization\n",
    "transform_train = transforms.Compose([\n",
    "    transforms.RandomCrop(32, padding=4),\n",
    "    transforms.RandomHorizontalFlip(),\n",
    "    transforms.RandomRotation(15),\n",
    "    transforms.ColorJitter(brightness=0.2, contrast=0.2, saturation=0.2, hue=0.2),\n",
    "    transforms.ToTensor(),\n",
    "    transforms.Normalize((0.4914, 0.4822, 0.4465), (0.2023, 0.1994, 0.2010)),\n",
    "])\n",
    "\n",
    "# Define test data normalization\n",
    "transform_test = transforms.Compose([\n",
    "    transforms.ToTensor(),\n",
    "    transforms.Normalize((0.4914, 0.4822, 0.4465), (0.2023, 0.1994, 0.2010)),\n",
    "])"
   ]
  },
  {
   "cell_type": "markdown",
   "metadata": {},
   "source": [
    "### 1.3 Load the CIFAR-10 Dataset and Implement Checkpoints"
   ]
  },
  {
   "cell_type": "code",
   "execution_count": 3,
   "metadata": {},
   "outputs": [
    {
     "name": "stdout",
     "output_type": "stream",
     "text": [
      "Dataset already exists. Loading data...\n"
     ]
    }
   ],
   "source": [
    "data_dir = './data'\n",
    "\n",
    "# Check if the dataset directory already exists\n",
    "if not os.path.exists(data_dir):\n",
    "    print(\"Downloading CIFAR-10 dataset...\")\n",
    "    train_dataset = torchvision.datasets.CIFAR10(\n",
    "        root=data_dir,\n",
    "        train=True,\n",
    "        download=True,\n",
    "        transform=transform_train\n",
    "    )\n",
    "    test_dataset = torchvision.datasets.CIFAR10(\n",
    "        root=data_dir,\n",
    "        train=False,\n",
    "        download=True,\n",
    "        transform=transform_test\n",
    "    )\n",
    "else:\n",
    "    print(\"Dataset already exists. Loading data...\")\n",
    "    train_dataset = torchvision.datasets.CIFAR10(\n",
    "        root=data_dir,\n",
    "        train=True,\n",
    "        download=False,\n",
    "        transform=transform_train\n",
    "    )\n",
    "    test_dataset = torchvision.datasets.CIFAR10(\n",
    "        root=data_dir,\n",
    "        train=False,\n",
    "        download=False,\n",
    "        transform=transform_test\n",
    "    )"
   ]
  },
  {
   "cell_type": "markdown",
   "metadata": {},
   "source": [
    "### 1.4 Split the Data"
   ]
  },
  {
   "cell_type": "code",
   "execution_count": 4,
   "metadata": {},
   "outputs": [],
   "source": [
    "torch.manual_seed(42)  # Set random seed for reproducibility\n",
    "\n",
    "# Split train dataset into training and validation sets\n",
    "train_size = int(0.8 * len(train_dataset))\n",
    "val_size = len(train_dataset) - train_size\n",
    "\n",
    "train_dataset, val_dataset = random_split(train_dataset, [train_size, val_size])\n",
    "\n",
    "# Create DataLoader for train, validation, and test datasets\n",
    "train_loader = DataLoader(train_dataset, batch_size=128, shuffle=True, num_workers=2)\n",
    "val_loader = DataLoader(val_dataset, batch_size=128, shuffle=False, num_workers=2)\n",
    "test_loader = DataLoader(test_dataset, batch_size=128, shuffle=False, num_workers=2)"
   ]
  },
  {
   "cell_type": "markdown",
   "metadata": {},
   "source": [
    "### 1.5 Verify Data Loading and Preprocessing"
   ]
  },
  {
   "cell_type": "code",
   "execution_count": 5,
   "metadata": {},
   "outputs": [
    {
     "data": {
      "image/png": "[encoded data removed]",
      "text/plain": [
       "<Figure size 1000x200 with 4 Axes>"
      ]
     },
     "metadata": {},
     "output_type": "display_data"
    }
   ],
   "source": [
    "\n",
    "# Function to unnormalize, clip, and show an image\n",
    "def imshow(img):\n",
    "    img = img * 0.2023 + 0.4914  # Unnormalize using the mean and std deviation\n",
    "    img = torch.clamp(img, 0, 1)  # Clip the values to be within [0, 1]\n",
    "    npimg = img.numpy()\n",
    "    plt.imshow(np.transpose(npimg, (1, 2, 0)))\n",
    "    plt.show()\n",
    "\n",
    "# Display some random training images\n",
    "dataiter = iter(train_loader)\n",
    "images, labels = next(dataiter)\n",
    "\n",
    "# CIFAR-10 classes\n",
    "classes = ['airplane', 'automobile', 'bird', 'cat', 'deer', \n",
    "           'dog', 'frog', 'horse', 'ship', 'truck']\n",
    "\n",
    "# Display images with labels\n",
    "fig, axes = plt.subplots(1, 4, figsize=(10, 2))\n",
    "for idx, ax in enumerate(axes):\n",
    "    img = images[idx]  # Select image\n",
    "    img = img * 0.2023 + 0.4914  # Unnormalize\n",
    "    img = torch.clamp(img, 0, 1)  # Clip the values to be within [0, 1]\n",
    "    npimg = img.numpy()\n",
    "    ax.imshow(np.transpose(npimg, (1, 2, 0)))  # Display image on the subplot\n",
    "    ax.set_title(classes[labels[idx]])\n",
    "    ax.axis('off')\n",
    "plt.show()"
   ]
  },
  {
   "cell_type": "code",
   "execution_count": null,
   "metadata": {},
   "outputs": [],
   "source": []
  },
  {
   "cell_type": "markdown",
   "metadata": {},
   "source": [
    "## Model Definition and Setup"
   ]
  },
  {
   "cell_type": "markdown",
   "metadata": {},
   "source": [
    "### Step 2.1: Define and Customize ResNet-18"
   ]
  },
  {
   "cell_type": "code",
   "execution_count": 6,
   "metadata": {},
   "outputs": [
    {
     "name": "stderr",
     "output_type": "stream",
     "text": [
      "/Library/Frameworks/Python.framework/Versions/3.12/lib/python3.12/site-packages/torchvision/models/_utils.py:208: UserWarning: The parameter 'pretrained' is deprecated since 0.13 and may be removed in the future, please use 'weights' instead.\n",
      "  warnings.warn(\n",
      "/Library/Frameworks/Python.framework/Versions/3.12/lib/python3.12/site-packages/torchvision/models/_utils.py:223: UserWarning: Arguments other than a weight enum or `None` for 'weights' are deprecated since 0.13 and may be removed in the future. The current behavior is equivalent to passing `weights=None`.\n",
      "  warnings.warn(msg)\n"
     ]
    }
   ],
   "source": [
    "# Step 2.1: Define Custom ResNet-18 for CIFAR-10\n",
    "import torch.nn as nn\n",
    "import torchvision.models as models\n",
    "\n",
    "class CustomResNet18(nn.Module):\n",
    "    def __init__(self, num_classes=10):\n",
    "        super(CustomResNet18, self).__init__()\n",
    "        # Load the ResNet-18 architecture\n",
    "        self.model = models.resnet18(pretrained=False)\n",
    "        \n",
    "        # Modify the initial convolution layer to fit CIFAR-10's image size\n",
    "        self.model.conv1 = nn.Conv2d(3, 64, kernel_size=3, stride=1, padding=1, bias=False)\n",
    "        \n",
    "        # Remove max-pooling to avoid excessive downsampling\n",
    "        self.model.maxpool = nn.Identity()\n",
    "        \n",
    "        # Modify the final fully connected layer to match CIFAR-10's classes\n",
    "        self.model.fc = nn.Linear(self.model.fc.in_features, num_classes)\n",
    "    \n",
    "    def forward(self, x):\n",
    "        return self.model(x)\n",
    "\n",
    "# Instantiate the model\n",
    "resnet18_model = CustomResNet18(num_classes=10)\n",
    "\n",
    "# Move the model to GPU if available\n",
    "device = torch.device(\"cuda\" if torch.cuda.is_available() else \"cpu\")\n",
    "resnet18_model = resnet18_model.to(device)"
   ]
  },
  {
   "cell_type": "markdown",
   "metadata": {},
   "source": [
    "### Step 2.2: Define and Customize AlexNet"
   ]
  },
  {
   "cell_type": "code",
   "execution_count": 7,
   "metadata": {},
   "outputs": [],
   "source": [
    "# Step 2.2: Define Custom AlexNet for CIFAR-10\n",
    "class CustomAlexNet(nn.Module):\n",
    "    def __init__(self, num_classes=10):\n",
    "        super(CustomAlexNet, self).__init__()\n",
    "        self.features = nn.Sequential(\n",
    "            nn.Conv2d(3, 64, kernel_size=3, stride=1, padding=1),\n",
    "            nn.ReLU(inplace=True),\n",
    "            nn.MaxPool2d(kernel_size=2, stride=2),\n",
    "\n",
    "            nn.Conv2d(64, 192, kernel_size=3, padding=1),\n",
    "            nn.ReLU(inplace=True),\n",
    "            nn.MaxPool2d(kernel_size=2, stride=2),\n",
    "\n",
    "            nn.Conv2d(192, 384, kernel_size=3, padding=1),\n",
    "            nn.ReLU(inplace=True),\n",
    "\n",
    "            nn.Conv2d(384, 256, kernel_size=3, padding=1),\n",
    "            nn.ReLU(inplace=True),\n",
    "\n",
    "            nn.Conv2d(256, 256, kernel_size=3, padding=1),\n",
    "            nn.ReLU(inplace=True),\n",
    "            nn.MaxPool2d(kernel_size=2, stride=2)\n",
    "        )\n",
    "\n",
    "        self.classifier = nn.Sequential(\n",
    "            nn.Dropout(),\n",
    "            nn.Linear(256 * 4 * 4, 4096),\n",
    "            nn.ReLU(inplace=True),\n",
    "            nn.Dropout(),\n",
    "            nn.Linear(4096, 4096),\n",
    "            nn.ReLU(inplace=True),\n",
    "            nn.Linear(4096, num_classes)\n",
    "        )\n",
    "\n",
    "    def forward(self, x):\n",
    "        x = self.features(x)\n",
    "        x = x.view(x.size(0), -1)  # Flatten feature map\n",
    "        x = self.classifier(x)\n",
    "        return x\n",
    "\n",
    "# Instantiate the model\n",
    "alexnet_model = CustomAlexNet(num_classes=10)\n",
    "alexnet_model = alexnet_model.to(device)"
   ]
  },
  {
   "cell_type": "markdown",
   "metadata": {},
   "source": [
    "### Step 2.3: Define and Customize MobileNetV2 (Fine-Tuned)"
   ]
  },
  {
   "cell_type": "code",
   "execution_count": 8,
   "metadata": {},
   "outputs": [
    {
     "name": "stderr",
     "output_type": "stream",
     "text": [
      "/Library/Frameworks/Python.framework/Versions/3.12/lib/python3.12/site-packages/torchvision/models/_utils.py:223: UserWarning: Arguments other than a weight enum or `None` for 'weights' are deprecated since 0.13 and may be removed in the future. The current behavior is equivalent to passing `weights=MobileNet_V2_Weights.IMAGENET1K_V1`. You can also use `weights=MobileNet_V2_Weights.DEFAULT` to get the most up-to-date weights.\n",
      "  warnings.warn(msg)\n"
     ]
    }
   ],
   "source": [
    "# Step 2.3: Define Custom MobileNetV2 for CIFAR-10\n",
    "class CustomMobileNetV2(nn.Module):\n",
    "    def __init__(self, num_classes=10):\n",
    "        super(CustomMobileNetV2, self).__init__()\n",
    "        # Load MobileNetV2 with pretrained weights\n",
    "        self.model = models.mobilenet_v2(pretrained=True)\n",
    "        \n",
    "        # Modify the classifier layer for CIFAR-10\n",
    "        self.model.classifier[1] = nn.Linear(self.model.classifier[1].in_features, num_classes)\n",
    "    \n",
    "    def forward(self, x):\n",
    "        return self.model(x)\n",
    "\n",
    "# Instantiate the model\n",
    "mobilenet_model = CustomMobileNetV2(num_classes=10)\n",
    "mobilenet_model = mobilenet_model.to(device)"
   ]
  },
  {
   "cell_type": "markdown",
   "metadata": {},
   "source": [
    "### Step 3.1: Define Loss Function and Optimizers"
   ]
  },
  {
   "cell_type": "code",
   "execution_count": 9,
   "metadata": {},
   "outputs": [],
   "source": [
    "import torch.optim as optim\n",
    "\n",
    "# Define the loss function\n",
    "criterion = nn.CrossEntropyLoss()\n",
    "\n",
    "# Define optimizers for each model (SGD with momentum)\n",
    "resnet18_optimizer = optim.SGD(resnet18_model.parameters(), lr=0.01, momentum=0.9, weight_decay=5e-4)\n",
    "alexnet_optimizer = optim.SGD(alexnet_model.parameters(), lr=0.01, momentum=0.9, weight_decay=5e-4)\n",
    "mobilenet_optimizer = optim.SGD(mobilenet_model.parameters(), lr=0.01, momentum=0.9, weight_decay=5e-4)"
   ]
  },
  {
   "cell_type": "markdown",
   "metadata": {},
   "source": [
    "### Step 3.2: Training and Validation Loops"
   ]
  },
  {
   "cell_type": "code",
   "execution_count": 10,
   "metadata": {},
   "outputs": [],
   "source": [
    "# Function to train and validate a model\n",
    "def train_and_validate(model, optimizer, num_epochs=20):\n",
    "    for epoch in range(num_epochs):\n",
    "        # Training phase\n",
    "        model.train()\n",
    "        running_loss = 0.0\n",
    "        correct = 0\n",
    "        total = 0\n",
    "\n",
    "        for inputs, labels in train_loader:\n",
    "            inputs, labels = inputs.to(device), labels.to(device)\n",
    "\n",
    "            # Zero gradients\n",
    "            optimizer.zero_grad()\n",
    "\n",
    "            # Forward pass\n",
    "            outputs = model(inputs)\n",
    "            loss = criterion(outputs, labels)\n",
    "\n",
    "            # Backward pass and optimization\n",
    "            loss.backward()\n",
    "            optimizer.step()\n",
    "\n",
    "            # Track training loss and accuracy\n",
    "            running_loss += loss.item()\n",
    "            _, predicted = outputs.max(1)\n",
    "            total += labels.size(0)\n",
    "            correct += predicted.eq(labels).sum().item()\n",
    "\n",
    "        train_acc = 100. * correct / total\n",
    "        print(f\"Epoch [{epoch+1}/{num_epochs}], Train Loss: {running_loss/len(train_loader):.4f}, Train Acc: {train_acc:.2f}%\")\n",
    "\n",
    "        # Validation phase\n",
    "        model.eval()\n",
    "        val_loss = 0.0\n",
    "        correct = 0\n",
    "        total = 0\n",
    "\n",
    "        with torch.no_grad():\n",
    "            for inputs, labels in val_loader:\n",
    "                inputs, labels = inputs.to(device), labels.to(device)\n",
    "\n",
    "                outputs = model(inputs)\n",
    "                loss = criterion(outputs, labels)\n",
    "\n",
    "                val_loss += loss.item()\n",
    "                _, predicted = outputs.max(1)\n",
    "                total += labels.size(0)\n",
    "                correct += predicted.eq(labels).sum().item()\n",
    "\n",
    "        val_acc = 100. * correct / total\n",
    "        print(f\"Epoch [{epoch+1}/{num_epochs}], Val Loss: {val_loss/len(val_loader):.4f}, Val Acc: {val_acc:.2f}%\")\n",
    "\n",
    "    print(\"Training and validation complete.\")"
   ]
  },
  {
   "cell_type": "markdown",
   "metadata": {},
   "source": [
    "### Step 3.3: Train Each Model"
   ]
  },
  {
   "cell_type": "code",
   "execution_count": 11,
   "metadata": {},
   "outputs": [
    {
     "name": "stdout",
     "output_type": "stream",
     "text": [
      "Training ResNet-18...\n",
      "Epoch [1/20], Train Loss: 1.7843, Train Acc: 33.72%\n",
      "Epoch [1/20], Val Loss: 1.6186, Val Acc: 40.53%\n",
      "Epoch [2/20], Train Loss: 1.4096, Train Acc: 48.80%\n",
      "Epoch [2/20], Val Loss: 1.3067, Val Acc: 53.16%\n",
      "Epoch [3/20], Train Loss: 1.1786, Train Acc: 58.01%\n",
      "Epoch [3/20], Val Loss: 1.1591, Val Acc: 59.50%\n",
      "Epoch [4/20], Train Loss: 1.0342, Train Acc: 63.47%\n",
      "Epoch [4/20], Val Loss: 1.0900, Val Acc: 60.54%\n",
      "Epoch [5/20], Train Loss: 0.9069, Train Acc: 68.19%\n",
      "Epoch [5/20], Val Loss: 1.0097, Val Acc: 64.99%\n",
      "Epoch [6/20], Train Loss: 0.8310, Train Acc: 70.91%\n",
      "Epoch [6/20], Val Loss: 0.8659, Val Acc: 69.71%\n",
      "Epoch [7/20], Train Loss: 0.7585, Train Acc: 73.21%\n",
      "Epoch [7/20], Val Loss: 0.7461, Val Acc: 73.72%\n",
      "Epoch [8/20], Train Loss: 0.7171, Train Acc: 74.87%\n",
      "Epoch [8/20], Val Loss: 0.7729, Val Acc: 73.67%\n",
      "Epoch [9/20], Train Loss: 0.6720, Train Acc: 76.35%\n",
      "Epoch [9/20], Val Loss: 0.7448, Val Acc: 74.07%\n",
      "Epoch [10/20], Train Loss: 0.6363, Train Acc: 77.82%\n",
      "Epoch [10/20], Val Loss: 0.7507, Val Acc: 73.70%\n",
      "Epoch [11/20], Train Loss: 0.6007, Train Acc: 79.07%\n",
      "Epoch [11/20], Val Loss: 0.6812, Val Acc: 76.72%\n",
      "Epoch [12/20], Train Loss: 0.5732, Train Acc: 79.87%\n",
      "Epoch [12/20], Val Loss: 0.6714, Val Acc: 76.60%\n",
      "Epoch [13/20], Train Loss: 0.5525, Train Acc: 80.74%\n",
      "Epoch [13/20], Val Loss: 0.7467, Val Acc: 75.21%\n",
      "Epoch [14/20], Train Loss: 0.5279, Train Acc: 81.51%\n",
      "Epoch [14/20], Val Loss: 0.6174, Val Acc: 78.37%\n",
      "Epoch [15/20], Train Loss: 0.5072, Train Acc: 82.18%\n",
      "Epoch [15/20], Val Loss: 0.5489, Val Acc: 80.87%\n",
      "Epoch [16/20], Train Loss: 0.4883, Train Acc: 82.97%\n",
      "Epoch [16/20], Val Loss: 0.6284, Val Acc: 77.92%\n",
      "Epoch [17/20], Train Loss: 0.4667, Train Acc: 83.72%\n",
      "Epoch [17/20], Val Loss: 0.5483, Val Acc: 80.89%\n",
      "Epoch [18/20], Train Loss: 0.4555, Train Acc: 84.27%\n",
      "Epoch [18/20], Val Loss: 0.5604, Val Acc: 80.54%\n",
      "Epoch [19/20], Train Loss: 0.4403, Train Acc: 84.77%\n",
      "Epoch [19/20], Val Loss: 0.5501, Val Acc: 81.18%\n",
      "Epoch [20/20], Train Loss: 0.4277, Train Acc: 84.89%\n",
      "Epoch [20/20], Val Loss: 0.6037, Val Acc: 79.44%\n",
      "Training and validation complete.\n"
     ]
    }
   ],
   "source": [
    "# Train ResNet-18 model\n",
    "print(\"Training ResNet-18...\")\n",
    "train_and_validate(resnet18_model, resnet18_optimizer)\n"
   ]
  },
  {
   "cell_type": "code",
   "execution_count": 12,
   "metadata": {},
   "outputs": [
    {
     "name": "stdout",
     "output_type": "stream",
     "text": [
      "Training AlexNet...\n",
      "Epoch [1/20], Train Loss: 2.2353, Train Acc: 14.81%\n",
      "Epoch [1/20], Val Loss: 2.0303, Val Acc: 23.85%\n",
      "Epoch [2/20], Train Loss: 1.9280, Train Acc: 26.83%\n",
      "Epoch [2/20], Val Loss: 1.7834, Val Acc: 33.98%\n",
      "Epoch [3/20], Train Loss: 1.7155, Train Acc: 35.90%\n",
      "Epoch [3/20], Val Loss: 1.6706, Val Acc: 38.87%\n",
      "Epoch [4/20], Train Loss: 1.5865, Train Acc: 41.01%\n",
      "Epoch [4/20], Val Loss: 1.4814, Val Acc: 46.43%\n",
      "Epoch [5/20], Train Loss: 1.4409, Train Acc: 47.33%\n",
      "Epoch [5/20], Val Loss: 1.3308, Val Acc: 51.45%\n",
      "Epoch [6/20], Train Loss: 1.3383, Train Acc: 51.19%\n",
      "Epoch [6/20], Val Loss: 1.2789, Val Acc: 54.10%\n",
      "Epoch [7/20], Train Loss: 1.2527, Train Acc: 54.51%\n",
      "Epoch [7/20], Val Loss: 1.1625, Val Acc: 57.94%\n",
      "Epoch [8/20], Train Loss: 1.1600, Train Acc: 58.12%\n",
      "Epoch [8/20], Val Loss: 1.0707, Val Acc: 61.38%\n",
      "Epoch [9/20], Train Loss: 1.0839, Train Acc: 61.31%\n",
      "Epoch [9/20], Val Loss: 0.9687, Val Acc: 64.88%\n",
      "Epoch [10/20], Train Loss: 1.0177, Train Acc: 63.62%\n",
      "Epoch [10/20], Val Loss: 0.9816, Val Acc: 65.93%\n",
      "Epoch [11/20], Train Loss: 0.9534, Train Acc: 66.28%\n",
      "Epoch [11/20], Val Loss: 0.9996, Val Acc: 64.75%\n",
      "Epoch [12/20], Train Loss: 0.9200, Train Acc: 67.43%\n",
      "Epoch [12/20], Val Loss: 0.8812, Val Acc: 68.82%\n",
      "Epoch [13/20], Train Loss: 0.8763, Train Acc: 69.26%\n",
      "Epoch [13/20], Val Loss: 0.8330, Val Acc: 70.26%\n",
      "Epoch [14/20], Train Loss: 0.8311, Train Acc: 71.07%\n",
      "Epoch [14/20], Val Loss: 0.8039, Val Acc: 71.53%\n",
      "Epoch [15/20], Train Loss: 0.8010, Train Acc: 72.11%\n",
      "Epoch [15/20], Val Loss: 0.7943, Val Acc: 72.31%\n",
      "Epoch [16/20], Train Loss: 0.7784, Train Acc: 73.04%\n",
      "Epoch [16/20], Val Loss: 0.8135, Val Acc: 71.89%\n",
      "Epoch [17/20], Train Loss: 0.7550, Train Acc: 73.75%\n",
      "Epoch [17/20], Val Loss: 0.7635, Val Acc: 73.44%\n",
      "Epoch [18/20], Train Loss: 0.7164, Train Acc: 75.02%\n",
      "Epoch [18/20], Val Loss: 0.7234, Val Acc: 74.37%\n",
      "Epoch [19/20], Train Loss: 0.6998, Train Acc: 75.48%\n",
      "Epoch [19/20], Val Loss: 0.7068, Val Acc: 75.49%\n",
      "Epoch [20/20], Train Loss: 0.6813, Train Acc: 76.62%\n",
      "Epoch [20/20], Val Loss: 0.6709, Val Acc: 76.60%\n",
      "Training and validation complete.\n"
     ]
    }
   ],
   "source": [
    "# Train AlexNet model\n",
    "print(\"Training AlexNet...\")\n",
    "train_and_validate(alexnet_model, alexnet_optimizer)\n"
   ]
  },
  {
   "cell_type": "code",
   "execution_count": 13,
   "metadata": {},
   "outputs": [
    {
     "name": "stdout",
     "output_type": "stream",
     "text": [
      "Training MobileNetV2...\n",
      "Epoch [1/20], Train Loss: 1.4245, Train Acc: 50.01%\n",
      "Epoch [1/20], Val Loss: 1.1006, Val Acc: 60.64%\n",
      "Epoch [2/20], Train Loss: 1.0288, Train Acc: 64.16%\n",
      "Epoch [2/20], Val Loss: 0.9558, Val Acc: 66.08%\n",
      "Epoch [3/20], Train Loss: 0.9340, Train Acc: 67.65%\n",
      "Epoch [3/20], Val Loss: 0.8903, Val Acc: 68.72%\n",
      "Epoch [4/20], Train Loss: 0.8667, Train Acc: 69.86%\n",
      "Epoch [4/20], Val Loss: 0.8442, Val Acc: 70.12%\n",
      "Epoch [5/20], Train Loss: 0.8359, Train Acc: 71.01%\n",
      "Epoch [5/20], Val Loss: 0.9321, Val Acc: 67.82%\n",
      "Epoch [6/20], Train Loss: 0.8089, Train Acc: 72.17%\n",
      "Epoch [6/20], Val Loss: 0.8043, Val Acc: 71.59%\n",
      "Epoch [7/20], Train Loss: 0.7624, Train Acc: 73.68%\n",
      "Epoch [7/20], Val Loss: 0.7870, Val Acc: 72.13%\n",
      "Epoch [8/20], Train Loss: 0.7496, Train Acc: 74.11%\n",
      "Epoch [8/20], Val Loss: 0.7382, Val Acc: 74.39%\n",
      "Epoch [9/20], Train Loss: 0.7274, Train Acc: 74.95%\n",
      "Epoch [9/20], Val Loss: 0.7565, Val Acc: 73.30%\n",
      "Epoch [10/20], Train Loss: 0.7127, Train Acc: 75.21%\n",
      "Epoch [10/20], Val Loss: 0.7372, Val Acc: 73.90%\n",
      "Epoch [11/20], Train Loss: 0.6976, Train Acc: 75.83%\n",
      "Epoch [11/20], Val Loss: 0.7143, Val Acc: 75.14%\n",
      "Epoch [12/20], Train Loss: 0.6851, Train Acc: 76.21%\n",
      "Epoch [12/20], Val Loss: 0.6972, Val Acc: 76.12%\n",
      "Epoch [13/20], Train Loss: 0.6725, Train Acc: 76.55%\n",
      "Epoch [13/20], Val Loss: 0.7210, Val Acc: 75.00%\n",
      "Epoch [14/20], Train Loss: 0.6814, Train Acc: 76.22%\n",
      "Epoch [14/20], Val Loss: 0.6920, Val Acc: 75.33%\n",
      "Epoch [15/20], Train Loss: 0.6590, Train Acc: 77.07%\n",
      "Epoch [15/20], Val Loss: 0.7566, Val Acc: 73.86%\n",
      "Epoch [16/20], Train Loss: 0.6633, Train Acc: 76.99%\n",
      "Epoch [16/20], Val Loss: 0.6961, Val Acc: 75.49%\n",
      "Epoch [17/20], Train Loss: 0.6470, Train Acc: 77.39%\n",
      "Epoch [17/20], Val Loss: 0.6650, Val Acc: 76.84%\n",
      "Epoch [18/20], Train Loss: 0.6353, Train Acc: 77.88%\n",
      "Epoch [18/20], Val Loss: 0.6925, Val Acc: 75.50%\n",
      "Epoch [19/20], Train Loss: 0.6253, Train Acc: 78.14%\n",
      "Epoch [19/20], Val Loss: 0.6685, Val Acc: 76.42%\n",
      "Epoch [20/20], Train Loss: 0.6227, Train Acc: 78.19%\n",
      "Epoch [20/20], Val Loss: 0.6794, Val Acc: 76.09%\n",
      "Training and validation complete.\n"
     ]
    }
   ],
   "source": [
    "# Train MobileNetV2 model\n",
    "print(\"Training MobileNetV2...\")\n",
    "train_and_validate(mobilenet_model, mobilenet_optimizer)"
   ]
  },
  {
   "cell_type": "markdown",
   "metadata": {},
   "source": []
  },
  {
   "cell_type": "markdown",
   "metadata": {},
   "source": [
    "## Step 4.1: Model Evaluation on Test Set"
   ]
  },
  {
   "cell_type": "code",
   "execution_count": 14,
   "metadata": {},
   "outputs": [
    {
     "name": "stdout",
     "output_type": "stream",
     "text": [
      "Evaluating models on the test set...\n",
      "ResNet-18 Test Accuracy: 82.86%\n",
      "AlexNet Test Accuracy: 80.35%\n",
      "MobileNetV2 Test Accuracy: 80.34%\n"
     ]
    }
   ],
   "source": [
    "# Function to evaluate model on test data\n",
    "def evaluate_model_on_test(model, test_loader):\n",
    "    model.eval()  # Set model to evaluation mode\n",
    "    correct = 0\n",
    "    total = 0\n",
    "\n",
    "    with torch.no_grad():  # Disable gradient computation for testing\n",
    "        for inputs, labels in test_loader:\n",
    "            inputs, labels = inputs.to(device), labels.to(device)\n",
    "\n",
    "            outputs = model(inputs)\n",
    "            _, predicted = outputs.max(1)\n",
    "            total += labels.size(0)\n",
    "            correct += predicted.eq(labels).sum().item()\n",
    "\n",
    "    test_acc = 100. * correct / total\n",
    "    return test_acc\n",
    "\n",
    "# Evaluate each model\n",
    "print(\"Evaluating models on the test set...\")\n",
    "resnet18_test_acc = evaluate_model_on_test(resnet18_model, test_loader)\n",
    "print(f\"ResNet-18 Test Accuracy: {resnet18_test_acc:.2f}%\")\n",
    "\n",
    "alexnet_test_acc = evaluate_model_on_test(alexnet_model, test_loader)\n",
    "print(f\"AlexNet Test Accuracy: {alexnet_test_acc:.2f}%\")\n",
    "\n",
    "mobilenet_test_acc = evaluate_model_on_test(mobilenet_model, test_loader)\n",
    "print(f\"MobileNetV2 Test Accuracy: {mobilenet_test_acc:.2f}%\")"
   ]
  },
  {
   "cell_type": "markdown",
   "metadata": {},
   "source": []
  },
  {
   "cell_type": "markdown",
   "metadata": {},
   "source": []
  },
  {
   "cell_type": "markdown",
   "metadata": {},
   "source": []
  },
  {
   "cell_type": "markdown",
   "metadata": {},
   "source": [
    "### Citation\n",
    "Will Cukierski. CIFAR-10 - Object Recognition in Images. https://kaggle.com/competitions/cifar-10, 2013. Kaggle."
   ]
  },
  {
   "cell_type": "markdown",
   "metadata": {},
   "source": []
  }
 ],
 "metadata": {
  "kernelspec": {
   "display_name": "Python 3",
   "language": "python",
   "name": "python3"
  },
  "language_info": {
   "codemirror_mode": {
    "name": "ipython",
    "version": 3
   },
   "file_extension": ".py",
   "mimetype": "text/x-python",
   "name": "python",
   "nbconvert_exporter": "python",
   "pygments_lexer": "ipython3",
   "version": "3.12.3"
  }
 },
 "nbformat": 4,
 "nbformat_minor": 2
}
